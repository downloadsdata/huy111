{
  "nbformat": 4,
  "nbformat_minor": 0,
  "metadata": {
    "colab": {
      "name": "vps.ipynb",
      "provenance": [],
      "mount_file_id": "1EtnamraODGjOGCqXHekY-NK_chY5KYGT",
      "authorship_tag": "ABX9TyPjeW6EKl+opEstGlvDtsAh",
      "include_colab_link": true
    },
    "kernelspec": {
      "name": "python3",
      "display_name": "Python 3"
    }
  },
  "cells": [
    {
      "cell_type": "markdown",
      "metadata": {
        "id": "view-in-github",
        "colab_type": "text"
      },
      "source": [
        "<a href=\"https://colab.research.google.com/github/nguyenvanhuy0612/huy111/blob/master/vps.ipynb\" target=\"_parent\"><img src=\"https://colab.research.google.com/assets/colab-badge.svg\" alt=\"Open In Colab\"/></a>"
      ]
    },
    {
      "cell_type": "code",
      "metadata": {
        "id": "8YjifLBWBQFk",
        "colab": {
          "base_uri": "https://localhost:8080/"
        },
        "outputId": "ae1803bf-3a89-47df-cdfc-43eb059fb652"
      },
      "source": [
        "! wget https://raw.githubusercontent.com/nguyenvanhuy0612/huy111/master/RDP.sh &> /dev/null\r\n",
        "! chmod +x RDP.sh\r\n",
        "! ./RDP.sh"
      ],
      "execution_count": 2,
      "outputs": [
        {
          "output_type": "stream",
          "text": [
            "Installing RDP Be Patience... \n",
            "Setup Complete \n",
            "Check https://remotedesktop.google.com/headless  Copy Command Of Debian Linux And Paste Down\n",
            "Paste Here: ^C\n"
          ],
          "name": "stdout"
        }
      ]
    },
    {
      "cell_type": "code",
      "metadata": {
        "id": "Zo695Q4HNTYL"
      },
      "source": [
        "!pip install colab_ssh --upgrade"
      ],
      "execution_count": null,
      "outputs": []
    },
    {
      "cell_type": "code",
      "metadata": {
        "id": "7FO2asoLNuxA"
      },
      "source": [
        "import random, string, urllib.request, json, getpass\r\n",
        "\r\n",
        "#Generate root password\r\n",
        "password = ''.join(random.choice(string.ascii_letters + string.digits) for i in range(20))\r\n",
        "\r\n",
        "#Download ngrok\r\n",
        "! wget -q -c -nc https://bin.equinox.io/c/4VmDzA7iaHb/ngrok-stable-linux-amd64.zip\r\n",
        "! unzip -qq -n ngrok-stable-linux-amd64.zip\r\n",
        "\r\n",
        "#Setup sshd\r\n",
        "! apt-get install -qq -o=Dpkg::Use-Pty=0 openssh-server pwgen > /dev/null\r\n",
        "\r\n",
        "#Set root password\r\n",
        "! echo root:$password | chpasswd\r\n",
        "! mkdir -p /var/run/sshd\r\n",
        "! echo \"PermitRootLogin yes\" >> /etc/ssh/sshd_config\r\n",
        "! echo \"PasswordAuthentication yes\" >> /etc/ssh/sshd_config\r\n",
        "! echo \"LD_LIBRARY_PATH=/usr/lib64-nvidia\" >> /root/.bashrc\r\n",
        "! echo \"export LD_LIBRARY_PATH\" >> /root/.bashrc\r\n",
        "\r\n",
        "#Run sshd\r\n",
        "get_ipython().system_raw('/usr/sbin/sshd -D &')\r\n",
        "\r\n",
        "#Ask token\r\n",
        "print(\"Copy authtoken from https://dashboard.ngrok.com/auth\")\r\n",
        "authtoken = getpass.getpass()\r\n",
        "\r\n",
        "#Create tunnel\r\n",
        "get_ipython().system_raw('./ngrok authtoken $authtoken && ./ngrok tcp 22 &')\r\n",
        "\r\n",
        "#Get public address and print connect command\r\n",
        "with urllib.request.urlopen('http://localhost:4040/api/tunnels') as response:\r\n",
        "  data = json.loads(response.read().decode())\r\n",
        "  (host, port) = data['tunnels'][0]['public_url'][6:].split(':')\r\n",
        "  print(f'SSH command: ssh -p{port} root@{host}')\r\n",
        "\r\n",
        "#Print root password\r\n",
        "print(f'Root password: {password}')"
      ],
      "execution_count": null,
      "outputs": []
    }
  ]
}